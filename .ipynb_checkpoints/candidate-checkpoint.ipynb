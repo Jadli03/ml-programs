{
 "cells": [
  {
   "cell_type": "code",
   "execution_count": 1,
   "id": "12ba1949",
   "metadata": {},
   "outputs": [],
   "source": [
    "import csv"
   ]
  },
  {
   "cell_type": "code",
   "execution_count": 33,
   "id": "e6c86fed",
   "metadata": {},
   "outputs": [
    {
     "name": "stdout",
     "output_type": "stream",
     "text": [
      "[['ï»¿sky ', 'temp', 'humidity', 'wind', 'forecast', 'enjoysport'], ['sunny', 'warm', 'normal', 'strong', 'same', 'yes'], ['sunny', 'warm', 'high', 'strong', 'same', 'yes'], ['raniy', 'cold', 'high', 'strong', 'change', 'no'], ['sunny', 'warm', 'high', 'strong', 'change', 'yes']]\n"
     ]
    }
   ],
   "source": [
    "with open(\"sporte.csv\") as f:\n",
    "    csv_file = csv.reader(f)\n",
    "    data =  list(csv_file)\n",
    "    print(data)"
   ]
  },
  {
   "cell_type": "code",
   "execution_count": 54,
   "id": "d44e4a95",
   "metadata": {},
   "outputs": [
    {
     "data": {
      "text/plain": [
       "[['ï»¿sky ', 'temp', 'humidity', 'wind', 'forecast', 'enjoysport'],\n",
       " ['sunny', 'warm', 'normal', 'strong', 'same', 'yes'],\n",
       " ['sunny', 'warm', 'high', 'strong', 'same', 'yes'],\n",
       " ['raniy', 'cold', 'high', 'strong', 'change', 'no'],\n",
       " ['sunny', 'warm', 'high', 'strong', 'change', 'yes']]"
      ]
     },
     "execution_count": 54,
     "metadata": {},
     "output_type": "execute_result"
    }
   ],
   "source": [
    "s = data[1][:-1]\n",
    "s\n"
   ]
  },
  {
   "cell_type": "code",
   "execution_count": 52,
   "id": "b0323615",
   "metadata": {},
   "outputs": [
    {
     "name": "stdout",
     "output_type": "stream",
     "text": [
      "Specific Hypothesis Initially =  ['sunny', 'warm', 'normal', 'strong', 'same']\n"
     ]
    }
   ],
   "source": [
    "print('Specific Hypothesis Initially = ', s)"
   ]
  },
  {
   "cell_type": "code",
   "execution_count": 53,
   "id": "e15cf172",
   "metadata": {},
   "outputs": [
    {
     "name": "stdout",
     "output_type": "stream",
     "text": [
      "General Hypothesis Initialization \n",
      "\n"
     ]
    },
    {
     "data": {
      "text/plain": [
       "[['?', '?', '?', '?', '?'],\n",
       " ['?', '?', '?', '?', '?'],\n",
       " ['?', '?', '?', '?', '?'],\n",
       " ['?', '?', '?', '?', '?'],\n",
       " ['?', '?', '?', '?', '?']]"
      ]
     },
     "execution_count": 53,
     "metadata": {},
     "output_type": "execute_result"
    }
   ],
   "source": [
    "g = [['?' for i in range(len(s))] for j in range(len(s))]\n",
    "print(\"General Hypothesis Initialization \\n\")\n",
    "g"
   ]
  },
  {
   "cell_type": "code",
   "execution_count": 45,
   "id": "bcfa83ee",
   "metadata": {},
   "outputs": [],
   "source": [
    "for i in data: \n",
    "    if i[-1] == 'yes':\n",
    "        for j in range(len(s)):\n",
    "            if i[j] != s[j]:\n",
    "                s[j] = '?'\n",
    "                g[j][j] = '?'\n",
    "                print(\"s[j] = \", s[j], \"\\t g[j][j]\", g[j][j])\n",
    "                print(\"\\n After row application\\n s = \",s)\n",
    "    elif i[-1] == 'no':\n",
    "        for j in range(len(s)):\n",
    "            if i[j] != s[j]:\n",
    "                g[j][j] = s[j]\n",
    "            else:\n",
    "                g[j][j] = '?'"
   ]
  },
  {
   "cell_type": "code",
   "execution_count": 46,
   "id": "d9650c13",
   "metadata": {},
   "outputs": [
    {
     "name": "stdout",
     "output_type": "stream",
     "text": [
      "Steps of candidate elimination \n",
      "\n",
      "\n",
      " s =  ?\n",
      "\n",
      " g =  [['?', '?', '?', '?', '?'], ['?', '?', '?', '?', '?'], ['?', '?', '?', '?', '?'], ['?', '?', '?', '?', '?'], ['?', '?', '?', '?', '?']]\n"
     ]
    }
   ],
   "source": [
    "print(\"Steps of candidate elimination \\n\")\n",
    "print(\"\\n s = \",s)\n",
    "print(\"\\n g = \", g)"
   ]
  },
  {
   "cell_type": "code",
   "execution_count": 47,
   "id": "f586129d",
   "metadata": {},
   "outputs": [],
   "source": [
    "gh = []"
   ]
  },
  {
   "cell_type": "code",
   "execution_count": 48,
   "id": "8b492629",
   "metadata": {},
   "outputs": [
    {
     "name": "stdout",
     "output_type": "stream",
     "text": [
      "?\n",
      "[]\n"
     ]
    }
   ],
   "source": [
    "for i in g:\n",
    "    for j in i:\n",
    "        if j != '?':\n",
    "            gh.append(i)\n",
    "            break\n",
    "        \n",
    "print(s)\n",
    "print(gh)"
   ]
  },
  {
   "cell_type": "code",
   "execution_count": null,
   "id": "926e8f41",
   "metadata": {},
   "outputs": [],
   "source": []
  }
 ],
 "metadata": {
  "kernelspec": {
   "display_name": "Python 3 (ipykernel)",
   "language": "python",
   "name": "python3"
  },
  "language_info": {
   "codemirror_mode": {
    "name": "ipython",
    "version": 3
   },
   "file_extension": ".py",
   "mimetype": "text/x-python",
   "name": "python",
   "nbconvert_exporter": "python",
   "pygments_lexer": "ipython3",
   "version": "3.9.7"
  }
 },
 "nbformat": 4,
 "nbformat_minor": 5
}
